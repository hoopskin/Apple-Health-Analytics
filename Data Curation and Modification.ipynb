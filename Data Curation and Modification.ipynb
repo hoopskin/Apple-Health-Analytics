{
 "cells": [
  {
   "cell_type": "markdown",
   "metadata": {},
   "source": [
    "# Initial Creation of Red, Green, Blue files (no aggregation / merging)"
   ]
  },
  {
   "cell_type": "code",
   "execution_count": null,
   "metadata": {
    "collapsed": true
   },
   "outputs": [],
   "source": [
    "import xml.etree.ElementTree as ET\n",
    "import datetime\n",
    "import csv\n",
    "import pandas as pd\n",
    "import numpy as np"
   ]
  },
  {
   "cell_type": "code",
   "execution_count": 2,
   "metadata": {
    "collapsed": true
   },
   "outputs": [],
   "source": [
    "def captureRoot(filePath):\n",
    "    startTime = datetime.datetime.now()\n",
    "    print(str(startTime)+\"| Starting Root capture for %s\" % (filePath))\n",
    "    root = ET.parse(filePath).getroot()\n",
    "    endTime = datetime.datetime.now()\n",
    "    print(str(endTime)+\"| Capture Complete! Duration: %i sec\" % ((endTime-startTime).seconds))\n",
    "    return root"
   ]
  },
  {
   "cell_type": "code",
   "execution_count": 6,
   "metadata": {
    "collapsed": true
   },
   "outputs": [],
   "source": [
    "#Blue (Stand: HKCategoryTypeIdentifierAppleStandHour\n",
    "#Green (Exercise): HKQuantityTypeIdentifierAppleExerciseTime\n",
    "#Red (Active Energy): HKQuantityTypeIdentifierActiveEnergyBurned\n",
    "\n",
    "def captureSingleRecordType(rootList, typeToCapture):\n",
    "    startTime = datetime.datetime.now()\n",
    "    print(str(startTime)+\"| Starting Record capture for %s\" % (typeToCapture))\n",
    "    rtnList = [[] for _ in rootList]\n",
    "    for idx, root in enumerate(rootList):\n",
    "        for child in root:\n",
    "            if \"type\" not in child.attrib.keys():\n",
    "                continue\n",
    "            if child.attrib['type'] == typeToCapture:\n",
    "                rtnList[idx].append(child.attrib)\n",
    "    endTime = datetime.datetime.now()\n",
    "    print(str(endTime)+\"| Capture Complete! Duration: %i sec\" % ((endTime-startTime).seconds))\n",
    "    return rtnList"
   ]
  },
  {
   "cell_type": "code",
   "execution_count": 7,
   "metadata": {},
   "outputs": [
    {
     "name": "stdout",
     "output_type": "stream",
     "text": [
      "2020-01-03 16:43:20.464066| Starting capture for alexAppleHealthData/export.xml\n",
      "2020-01-03 16:48:33.475213| Capture Complete! Duration: 313 sec\n",
      "2020-01-03 16:48:33.653719| Starting capture for jamesAppleHealthData/export.xml\n",
      "2020-01-03 16:48:57.026247| Capture Complete! Duration: 23 sec\n"
     ]
    }
   ],
   "source": [
    "alexRoot = captureRoot(\"alexAppleHealthData/export.xml\")\n",
    "jamesRoot = captureRoot(\"jamesAppleHealthData/export.xml\")"
   ]
  },
  {
   "cell_type": "code",
   "execution_count": 8,
   "metadata": {},
   "outputs": [
    {
     "name": "stdout",
     "output_type": "stream",
     "text": [
      "2020-01-03 16:48:58.103886| Starting Record capture for HKCategoryTypeIdentifierAppleStandHour\n",
      "2020-01-03 16:49:48.172841| Capture Complete! Duration: 50 sec\n",
      "2020-01-03 16:49:48.183287| Starting Record capture for HKQuantityTypeIdentifierAppleExerciseTime\n",
      "2020-01-03 16:50:09.698521| Capture Complete! Duration: 21 sec\n",
      "2020-01-03 16:50:09.705400| Starting Record capture for HKQuantityTypeIdentifierActiveEnergyBurned\n",
      "2020-01-03 16:50:34.876118| Capture Complete! Duration: 25 sec\n"
     ]
    }
   ],
   "source": [
    "standData = captureSingleRecordType([alexRoot, jamesRoot], 'HKCategoryTypeIdentifierAppleStandHour')\n",
    "exerciseData = captureSingleRecordType([alexRoot, jamesRoot], 'HKQuantityTypeIdentifierAppleExerciseTime')\n",
    "activeEnergyData = captureSingleRecordType([alexRoot, jamesRoot], 'HKQuantityTypeIdentifierActiveEnergyBurned')"
   ]
  },
  {
   "cell_type": "code",
   "execution_count": 10,
   "metadata": {},
   "outputs": [
    {
     "name": "stdout",
     "output_type": "stream",
     "text": [
      "2020-01-03 16:52:12.630697| Writing Stand Data...\n",
      "2020-01-03 16:52:13.279185| Stand Data Write Complete! Duration: 0 sec\n",
      "2020-01-03 16:52:13.279538| Writing Exercise Data...\n",
      "2020-01-03 16:52:14.865702| Exercise Data Write Complete! Duration: 1 sec\n",
      "2020-01-03 16:52:14.866104| Writing Active Energy Data...\n",
      "2020-01-03 16:52:44.618916| Active Energy Data Write Complete! Duration: 29 sec\n"
     ]
    }
   ],
   "source": [
    "startTime = datetime.datetime.now()\n",
    "print(str(startTime)+\"| Writing Stand Data...\")\n",
    "pd.DataFrame(standData[0])\\\n",
    "    .drop(labels=['device', 'sourceName', 'sourceVersion', 'type', 'creationDate', 'startDate'], axis=1)\\\n",
    "    .to_csv(\"alexAppleHealthData/stand.csv\")\n",
    "pd.DataFrame(standData[1])\\\n",
    "    .drop(labels=['device', 'sourceName', 'sourceVersion', 'type', 'creationDate', 'startDate'], axis=1)\\\n",
    "    .to_csv(\"jamesAppleHealthData/stand.csv\")\n",
    "endTime = datetime.datetime.now()\n",
    "print(str(endTime)+\"| Stand Data Write Complete! Duration: %i sec\" % ((endTime-startTime).seconds))\n",
    "    \n",
    "startTime = datetime.datetime.now()\n",
    "print(str(startTime)+\"| Writing Exercise Data...\")\n",
    "pd.DataFrame(exerciseData[0])\\\n",
    "    .drop(labels=['device', 'sourceName', 'sourceVersion', 'type', 'creationDate', 'startDate'], axis=1)\\\n",
    "    .to_csv(\"alexAppleHealthData/exercise.csv\")\n",
    "pd.DataFrame(exerciseData[1])\\\n",
    "    .drop(labels=['device', 'sourceName', 'sourceVersion', 'type', 'creationDate', 'startDate'], axis=1)\\\n",
    "    .to_csv(\"jamesAppleHealthData/exercise.csv\")\n",
    "endTime = datetime.datetime.now()\n",
    "print(str(endTime)+\"| Exercise Data Write Complete! Duration: %i sec\" % ((endTime-startTime).seconds))\n",
    "\n",
    "startTime = datetime.datetime.now()\n",
    "print(str(startTime)+\"| Writing Active Energy Data...\")\n",
    "pd.DataFrame(activeEnergyData[0])\\\n",
    "    .drop(labels=['device', 'sourceName', 'sourceVersion', 'type', 'creationDate', 'startDate'], axis=1)\\\n",
    "    .to_csv(\"alexAppleHealthData/activeEnergy.csv\")\n",
    "pd.DataFrame(activeEnergyData[1])\\\n",
    "    .drop(labels=['device', 'sourceName', 'sourceVersion', 'type', 'creationDate', 'startDate'], axis=1)\\\n",
    "    .to_csv(\"jamesAppleHealthData/activeEnergy.csv\")\n",
    "endTime = datetime.datetime.now()\n",
    "print(str(endTime)+\"| Active Energy Data Write Complete! Duration: %i sec\" % ((endTime-startTime).seconds))"
   ]
  },
  {
   "cell_type": "markdown",
   "metadata": {},
   "source": [
    "# Aggregation and Merging of Red, Green, Blue files"
   ]
  },
  {
   "cell_type": "code",
   "execution_count": 11,
   "metadata": {
    "collapsed": true
   },
   "outputs": [],
   "source": [
    "import pandas as pd\n",
    "import numpy as np"
   ]
  },
  {
   "cell_type": "markdown",
   "metadata": {},
   "source": [
    "### Blue file (Stand)"
   ]
  },
  {
   "cell_type": "code",
   "execution_count": 66,
   "metadata": {},
   "outputs": [],
   "source": [
    "alexDf = pd.read_csv('alexAppleHealthData/stand.csv', index_col=0, dtype=str)\n",
    "jamesDf = pd.read_csv('jamesAppleHealthData/stand.csv', index_col=0, dtype=str)\n",
    "\n",
    "dfList = [alexDf, jamesDf]\n",
    "for i in range(len(dfList)):\n",
    "    dfList[i]['endDate'] = dfList[i]['endDate'].str.slice(0,10)\n",
    "    dfList[i]['value'] = dfList[i]['value'].map({'HKCategoryValueAppleStandHourStood': 1, 'HKCategoryValueAppleStandHourIdle': 0})\n",
    "    dfList[i] = dfList[i].groupby(\"endDate\").agg({'value': 'sum'}).reset_index()"
   ]
  },
  {
   "cell_type": "code",
   "execution_count": 73,
   "metadata": {},
   "outputs": [],
   "source": [
    "#Unclear on why suffixes are not reversed when left=dfList[0]='Alex'\n",
    "mergeDf = pd.merge(left=dfList[0], right=dfList[1], how='outer', on='endDate', suffixes={\"_james\", \"_alex\"})"
   ]
  },
  {
   "cell_type": "code",
   "execution_count": 82,
   "metadata": {},
   "outputs": [],
   "source": [
    "mergeDf.to_csv(\"output/stand.csv\", index=False)"
   ]
  },
  {
   "cell_type": "markdown",
   "metadata": {},
   "source": [
    "### Green File (Exercise)"
   ]
  },
  {
   "cell_type": "code",
   "execution_count": 86,
   "metadata": {},
   "outputs": [],
   "source": [
    "alexDf = pd.read_csv('alexAppleHealthData/exercise.csv', index_col=0)\n",
    "jamesDf = pd.read_csv('jamesAppleHealthData/exercise.csv', index_col=0)\n",
    "\n",
    "dfList = [alexDf, jamesDf]\n",
    "for i in range(len(dfList)):\n",
    "    dfList[i]['endDate'] = dfList[i]['endDate'].str.slice(0,10)\n",
    "    dfList[i] = dfList[i].groupby(\"endDate\").agg({'value': 'sum'}).reset_index()"
   ]
  },
  {
   "cell_type": "code",
   "execution_count": 89,
   "metadata": {},
   "outputs": [],
   "source": [
    "#Unclear on why suffixes are not reversed when left=dfList[0]='Alex'\n",
    "mergeDf = pd.merge(left=dfList[0], right=dfList[1], how='outer', on='endDate', suffixes={\"_james\", \"_alex\"})"
   ]
  },
  {
   "cell_type": "code",
   "execution_count": 91,
   "metadata": {},
   "outputs": [],
   "source": [
    "mergeDf.to_csv(\"output/exercise.csv\", index=False)"
   ]
  },
  {
   "cell_type": "markdown",
   "metadata": {},
   "source": [
    "### Red File (Active Energy)"
   ]
  },
  {
   "cell_type": "code",
   "execution_count": 92,
   "metadata": {},
   "outputs": [
    {
     "name": "stderr",
     "output_type": "stream",
     "text": [
      "/anaconda/lib/python3.6/site-packages/numpy/lib/arraysetops.py:395: FutureWarning: elementwise comparison failed; returning scalar instead, but in the future will perform elementwise comparison\n",
      "  mask |= (ar1 == a)\n"
     ]
    }
   ],
   "source": [
    "alexDf = pd.read_csv('alexAppleHealthData/activeEnergy.csv', index_col=0)\n",
    "jamesDf = pd.read_csv('jamesAppleHealthData/activeEnergy.csv', index_col=0)\n",
    "\n",
    "dfList = [alexDf, jamesDf]\n",
    "for i in range(len(dfList)):\n",
    "    dfList[i]['endDate'] = dfList[i]['endDate'].str.slice(0,10)\n",
    "    dfList[i] = dfList[i].groupby(\"endDate\").agg({'value': 'sum'}).reset_index()"
   ]
  },
  {
   "cell_type": "code",
   "execution_count": 94,
   "metadata": {},
   "outputs": [],
   "source": [
    "#Unclear on why suffixes are not reversed when left=dfList[0]='Alex'\n",
    "mergeDf = pd.merge(left=dfList[0], right=dfList[1], how='outer', on='endDate', suffixes={\"_james\", \"_alex\"})"
   ]
  },
  {
   "cell_type": "code",
   "execution_count": 96,
   "metadata": {},
   "outputs": [],
   "source": [
    "mergeDf.to_csv(\"output/activeEnergy.csv\", index=False)"
   ]
  },
  {
   "cell_type": "markdown",
   "metadata": {},
   "source": [
    "# Aggregating the 3 files together"
   ]
  },
  {
   "cell_type": "code",
   "execution_count": 97,
   "metadata": {
    "collapsed": true
   },
   "outputs": [],
   "source": [
    "import pandas as pd\n",
    "import numpy as np"
   ]
  },
  {
   "cell_type": "code",
   "execution_count": 115,
   "metadata": {},
   "outputs": [],
   "source": [
    "standDf = pd.read_csv(\"output/stand.csv\")\n",
    "exerciseDf = pd.read_csv(\"output/exercise.csv\")\n",
    "activeEnergyDf = pd.read_csv(\"output/activeEnergy.csv\")\n",
    "\n",
    "standDf.columns = ['endDate', 'stand_alex', 'stand_james']\n",
    "exerciseDf.columns = ['endDate', 'exercise_alex', 'exercise_james']\n",
    "activeEnergyDf.columns = ['endDate', 'activeEnergy_alex', 'activeEnergy_james']"
   ]
  },
  {
   "cell_type": "code",
   "execution_count": 119,
   "metadata": {},
   "outputs": [],
   "source": [
    "mergeDf = standDf.merge(exerciseDf, how='outer', on='endDate').merge(activeEnergyDf, how='outer', on='endDate')"
   ]
  },
  {
   "cell_type": "code",
   "execution_count": 122,
   "metadata": {},
   "outputs": [],
   "source": [
    "mergeDf.to_csv(\"output/redGreenBlue.csv\", index=False)"
   ]
  },
  {
   "cell_type": "code",
   "execution_count": null,
   "metadata": {
    "collapsed": true
   },
   "outputs": [],
   "source": []
  }
 ],
 "metadata": {
  "kernelspec": {
   "display_name": "Python 3",
   "language": "python",
   "name": "python3"
  },
  "language_info": {
   "codemirror_mode": {
    "name": "ipython",
    "version": 3
   },
   "file_extension": ".py",
   "mimetype": "text/x-python",
   "name": "python",
   "nbconvert_exporter": "python",
   "pygments_lexer": "ipython3",
   "version": "3.6.1"
  }
 },
 "nbformat": 4,
 "nbformat_minor": 2
}
