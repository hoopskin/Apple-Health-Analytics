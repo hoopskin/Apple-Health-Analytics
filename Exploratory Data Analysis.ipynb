{
 "cells": [
  {
   "cell_type": "code",
   "execution_count": 4,
   "metadata": {
    "collapsed": true
   },
   "outputs": [],
   "source": [
    "import xml.etree.ElementTree as ET\n",
    "import datetime"
   ]
  },
  {
   "cell_type": "code",
   "execution_count": 10,
   "metadata": {},
   "outputs": [
    {
     "name": "stdout",
     "output_type": "stream",
     "text": [
      "Duration to capture Alex's ElementTree: 114 sec\n",
      "Duration to capture James' ElementTree: 50 sec\n"
     ]
    }
   ],
   "source": [
    "alexStartTime = datetime.datetime.now()\n",
    "alexRoot = ET.parse(\"alexAppleHealthData/export.xml\").getroot()\n",
    "alexEndTime = datetime.datetime.now()\n",
    "print(\"Duration to capture Alex's ElementTree: %i sec\" % ((alexEndTime-alexStartTime).seconds))\n",
    "jamesStartTime = datetime.datetime.now()\n",
    "jamesRoot = ET.parse(\"jamesAppleHealthData/export.xml\").getroot()\n",
    "jamesEndTime = datetime.datetime.now()\n",
    "print(\"Duration to capture James' ElementTree: %i sec\" % ((jamesEndTime-jamesStartTime).seconds))"
   ]
  },
  {
   "cell_type": "code",
   "execution_count": 24,
   "metadata": {
    "collapsed": true
   },
   "outputs": [],
   "source": [
    "def discoverRecordTypes(root, debug=0):\n",
    "    typesDiscovered = []\n",
    "    i = 0\n",
    "    for child in root:\n",
    "        i += 1\n",
    "        if \"type\" not in child.attrib.keys():\n",
    "            continue\n",
    "        if i % 100000 == 0:\n",
    "            if debug >= 1:\n",
    "                print(i)\n",
    "            if debug >= 2:\n",
    "                print(typesDiscovered)\n",
    "        if child.attrib[\"type\"] not in typesDiscovered:\n",
    "            if debug >= 2:\n",
    "                print(child.attrib[\"type\"])\n",
    "            typesDiscovered.append(child.attrib[\"type\"])\n",
    "    return typesDiscovered"
   ]
  },
  {
   "cell_type": "code",
   "execution_count": 25,
   "metadata": {
    "scrolled": true
   },
   "outputs": [
    {
     "name": "stdout",
     "output_type": "stream",
     "text": [
      "--Start Alex Type Captures--\n",
      "100000\n",
      "200000\n",
      "300000\n",
      "400000\n",
      "500000\n",
      "600000\n",
      "700000\n",
      "800000\n",
      "900000\n",
      "1000000\n",
      "1100000\n",
      "1200000\n",
      "1300000\n",
      "1400000\n",
      "1500000\n",
      "1600000\n",
      "1700000\n",
      "1800000\n",
      "1900000\n",
      "2000000\n",
      "2100000\n",
      "2200000\n",
      "2300000\n",
      "2400000\n",
      "2500000\n",
      "2600000\n",
      "2700000\n",
      "2800000\n",
      "2900000\n",
      "3000000\n",
      "--End Alex Type Captures--\n",
      "--Start James Type Captures--\n",
      "100000\n",
      "200000\n",
      "300000\n",
      "400000\n",
      "500000\n",
      "600000\n",
      "700000\n",
      "800000\n",
      "--End James Type Captures--\n"
     ]
    }
   ],
   "source": [
    "print(\"--Start Alex Type Captures--\")\n",
    "alexTypes = discoverRecordTypes(alexRoot, debug=1)\n",
    "print(\"--End Alex Type Captures--\")\n",
    "\n",
    "print(\"--Start James Type Captures--\")\n",
    "jamesTypes = discoverRecordTypes(jamesRoot, debug=1)\n",
    "print(\"--End James Type Captures--\")"
   ]
  },
  {
   "cell_type": "code",
   "execution_count": 44,
   "metadata": {
    "collapsed": true
   },
   "outputs": [],
   "source": [
    "import csv\n",
    "typeToTitleDict = {row[0]: row[1] for row in csv.reader(open(\"recordTypeToTitle.csv\"))}"
   ]
  },
  {
   "cell_type": "code",
   "execution_count": 46,
   "metadata": {
    "scrolled": true
   },
   "outputs": [],
   "source": [
    "alexTitles = [typeToTitleDict[v] for v in alexTypes]\n",
    "jamesTitles = [typeToTitleDict[v] for v in jamesTypes]"
   ]
  },
  {
   "cell_type": "code",
   "execution_count": 55,
   "metadata": {},
   "outputs": [],
   "source": [
    "critType = 'HKQuantityTypeIdentifierActiveEnergyBurned'\n",
    "for child in alexRoot:\n",
    "    if \"type\" not in child.attrib.keys():\n",
    "        continue\n",
    "    if child.attrib['type'] == critType:\n",
    "        alexChild = child\n",
    "        break\n",
    "for child in jamesRoot:\n",
    "    if \"type\" not in child.attrib.keys():\n",
    "        continue\n",
    "    if child.attrib['type'] == critType:\n",
    "        jamesChild = child\n",
    "        break"
   ]
  },
  {
   "cell_type": "code",
   "execution_count": 56,
   "metadata": {},
   "outputs": [
    {
     "data": {
      "text/plain": [
       "{'creationDate': '2018-11-16 15:59:34 -0600',\n",
       " 'device': '<<HKDevice: 0x2833d3520>, name:Apple Watch, manufacturer:Apple, model:Watch, hardware:Watch3,3, software:5.0>',\n",
       " 'endDate': '2018-11-16 15:51:03 -0600',\n",
       " 'sourceName': 'James’s Apple\\xa0Watch',\n",
       " 'sourceVersion': '5.0',\n",
       " 'startDate': '2018-11-16 15:50:01 -0600',\n",
       " 'type': 'HKQuantityTypeIdentifierActiveEnergyBurned',\n",
       " 'unit': 'kcal',\n",
       " 'value': '0.369'}"
      ]
     },
     "execution_count": 56,
     "metadata": {},
     "output_type": "execute_result"
    }
   ],
   "source": [
    "jamesChild.attrib"
   ]
  },
  {
   "cell_type": "code",
   "execution_count": 72,
   "metadata": {
    "collapsed": true
   },
   "outputs": [],
   "source": [
    "#AppleStandHour, AppleExerciseTime, ActiveEnergyBurned\n",
    "def captureSingleRecordType(alexRoot, jamesRoot, typeToCapture):\n",
    "    rtnList = [[], []]\n",
    "    for idx, root in enumerate([alexRoot, jamesRoot]):\n",
    "        for child in root:\n",
    "            if \"type\" not in child.attrib.keys():\n",
    "                continue\n",
    "            if child.attrib['type'] == typeToCapture:\n",
    "                rtnList[idx].append(child.attrib)\n",
    "    return rtnList"
   ]
  },
  {
   "cell_type": "code",
   "execution_count": 73,
   "metadata": {},
   "outputs": [],
   "source": [
    "rtnList = captureSingleRecordType(alexRoot, jamesRoot, \"HKQuantityTypeIdentifierActiveEnergyBurned\")"
   ]
  },
  {
   "cell_type": "code",
   "execution_count": 78,
   "metadata": {
    "scrolled": true
   },
   "outputs": [
    {
     "data": {
      "text/plain": [
       "{'creationDate': '2019-04-25 18:21:44 -0600',\n",
       " 'device': '<<HKDevice: 0x280a6f520>, name:Apple Watch, manufacturer:Apple, model:Watch, hardware:Watch1,1, software:4.3.2>',\n",
       " 'endDate': '2019-04-25 18:20:39 -0600',\n",
       " 'sourceName': 'Alex’s Apple\\xa0Watch',\n",
       " 'sourceVersion': '4.3.2',\n",
       " 'startDate': '2019-04-25 18:19:38 -0600',\n",
       " 'type': 'HKQuantityTypeIdentifierActiveEnergyBurned',\n",
       " 'unit': 'kcal',\n",
       " 'value': '0.408'}"
      ]
     },
     "execution_count": 78,
     "metadata": {},
     "output_type": "execute_result"
    }
   ],
   "source": [
    "rtnList[0][0]"
   ]
  },
  {
   "cell_type": "code",
   "execution_count": 82,
   "metadata": {
    "collapsed": true
   },
   "outputs": [],
   "source": [
    "import pandas as pd\n",
    "df = pd.DataFrame(rtnList[0])\n",
    "df.drop(labels=['device', 'sourceName', 'sourceVersion', 'type'], axis=1, inplace=True)\n",
    "df.to_csv(\"alexEnergyData.csv\")"
   ]
  },
  {
   "cell_type": "code",
   "execution_count": 83,
   "metadata": {},
   "outputs": [
    {
     "data": {
      "text/html": [
       "<div>\n",
       "<style>\n",
       "    .dataframe thead tr:only-child th {\n",
       "        text-align: right;\n",
       "    }\n",
       "\n",
       "    .dataframe thead th {\n",
       "        text-align: left;\n",
       "    }\n",
       "\n",
       "    .dataframe tbody tr th {\n",
       "        vertical-align: top;\n",
       "    }\n",
       "</style>\n",
       "<table border=\"1\" class=\"dataframe\">\n",
       "  <thead>\n",
       "    <tr style=\"text-align: right;\">\n",
       "      <th></th>\n",
       "      <th>creationDate</th>\n",
       "      <th>endDate</th>\n",
       "      <th>startDate</th>\n",
       "      <th>unit</th>\n",
       "      <th>value</th>\n",
       "    </tr>\n",
       "  </thead>\n",
       "  <tbody>\n",
       "    <tr>\n",
       "      <th>0</th>\n",
       "      <td>2019-04-25 18:21:44 -0600</td>\n",
       "      <td>2019-04-25 18:20:39 -0600</td>\n",
       "      <td>2019-04-25 18:19:38 -0600</td>\n",
       "      <td>kcal</td>\n",
       "      <td>0.408</td>\n",
       "    </tr>\n",
       "    <tr>\n",
       "      <th>1</th>\n",
       "      <td>2019-04-25 18:21:44 -0600</td>\n",
       "      <td>2019-04-25 18:21:40 -0600</td>\n",
       "      <td>2019-04-25 18:20:39 -0600</td>\n",
       "      <td>kcal</td>\n",
       "      <td>0.354</td>\n",
       "    </tr>\n",
       "    <tr>\n",
       "      <th>2</th>\n",
       "      <td>2019-04-25 18:22:53 -0600</td>\n",
       "      <td>2019-04-25 18:22:42 -0600</td>\n",
       "      <td>2019-04-25 18:21:40 -0600</td>\n",
       "      <td>kcal</td>\n",
       "      <td>0.437</td>\n",
       "    </tr>\n",
       "    <tr>\n",
       "      <th>3</th>\n",
       "      <td>2019-04-25 18:24:54 -0600</td>\n",
       "      <td>2019-04-25 18:23:12 -0600</td>\n",
       "      <td>2019-04-25 18:22:42 -0600</td>\n",
       "      <td>kcal</td>\n",
       "      <td>0.204</td>\n",
       "    </tr>\n",
       "    <tr>\n",
       "      <th>4</th>\n",
       "      <td>2019-04-25 18:26:25 -0600</td>\n",
       "      <td>2019-04-25 18:24:13 -0600</td>\n",
       "      <td>2019-04-25 18:23:12 -0600</td>\n",
       "      <td>kcal</td>\n",
       "      <td>0.408</td>\n",
       "    </tr>\n",
       "  </tbody>\n",
       "</table>\n",
       "</div>"
      ],
      "text/plain": [
       "                creationDate                    endDate  \\\n",
       "0  2019-04-25 18:21:44 -0600  2019-04-25 18:20:39 -0600   \n",
       "1  2019-04-25 18:21:44 -0600  2019-04-25 18:21:40 -0600   \n",
       "2  2019-04-25 18:22:53 -0600  2019-04-25 18:22:42 -0600   \n",
       "3  2019-04-25 18:24:54 -0600  2019-04-25 18:23:12 -0600   \n",
       "4  2019-04-25 18:26:25 -0600  2019-04-25 18:24:13 -0600   \n",
       "\n",
       "                   startDate  unit  value  \n",
       "0  2019-04-25 18:19:38 -0600  kcal  0.408  \n",
       "1  2019-04-25 18:20:39 -0600  kcal  0.354  \n",
       "2  2019-04-25 18:21:40 -0600  kcal  0.437  \n",
       "3  2019-04-25 18:22:42 -0600  kcal  0.204  \n",
       "4  2019-04-25 18:23:12 -0600  kcal  0.408  "
      ]
     },
     "execution_count": 83,
     "metadata": {},
     "output_type": "execute_result"
    }
   ],
   "source": [
    "df.head()"
   ]
  },
  {
   "cell_type": "code",
   "execution_count": 84,
   "metadata": {},
   "outputs": [
    {
     "data": {
      "text/plain": [
       "(1375944, 5)"
      ]
     },
     "execution_count": 84,
     "metadata": {},
     "output_type": "execute_result"
    }
   ],
   "source": [
    "df.shape"
   ]
  },
  {
   "cell_type": "code",
   "execution_count": null,
   "metadata": {
    "collapsed": true
   },
   "outputs": [],
   "source": []
  }
 ],
 "metadata": {
  "kernelspec": {
   "display_name": "Python 3",
   "language": "python",
   "name": "python3"
  },
  "language_info": {
   "codemirror_mode": {
    "name": "ipython",
    "version": 3
   },
   "file_extension": ".py",
   "mimetype": "text/x-python",
   "name": "python",
   "nbconvert_exporter": "python",
   "pygments_lexer": "ipython3",
   "version": "3.6.1"
  }
 },
 "nbformat": 4,
 "nbformat_minor": 2
}
